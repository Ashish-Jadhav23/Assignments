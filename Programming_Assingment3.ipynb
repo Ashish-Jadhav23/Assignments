{
 "cells": [
  {
   "cell_type": "code",
   "execution_count": 1,
   "id": "7ea7e4ce-3980-4a9c-9e55-412016d1a015",
   "metadata": {},
   "outputs": [],
   "source": [
    "#1.\tWrite a Python Program to Check if a Number is Positive, Negative or Zero?"
   ]
  },
  {
   "cell_type": "code",
   "execution_count": 10,
   "id": "d8e0161c-d6e8-407b-93d5-6b0cf3bccc76",
   "metadata": {},
   "outputs": [
    {
     "name": "stdin",
     "output_type": "stream",
     "text": [
      "Enter the number you need to check:  2\n"
     ]
    },
    {
     "name": "stdout",
     "output_type": "stream",
     "text": [
      "2 is postive number\n"
     ]
    }
   ],
   "source": [
    "num = int(input(\"Enter the number you need to check: \"))\n",
    "if num == 0:\n",
    "    print(\"The provided number is zero\")\n",
    "elif num > 0:\n",
    "    print(f\"{num} is postive number\")\n",
    "else:\n",
    "    print(f\"{num} is negative number\")"
   ]
  },
  {
   "cell_type": "code",
   "execution_count": 7,
   "id": "0b3ee660-2b66-456b-9e7b-784ed1eb078a",
   "metadata": {},
   "outputs": [],
   "source": [
    "#2.\tWrite a Python Program to Check if a Number is Odd or Even?"
   ]
  },
  {
   "cell_type": "code",
   "execution_count": 12,
   "id": "fd296471-1c52-4ea1-bd5d-f73ab7589734",
   "metadata": {},
   "outputs": [
    {
     "name": "stdin",
     "output_type": "stream",
     "text": [
      "Enter the number you need to check:  20\n"
     ]
    },
    {
     "name": "stdout",
     "output_type": "stream",
     "text": [
      "20 is an even number\n"
     ]
    }
   ],
   "source": [
    "num1 = int(input(\"Enter the number you need to check: \"))\n",
    "if num1%2==0:\n",
    "    print(f\"{num1} is an even number\")\n",
    "else:\n",
    "    print(f\"{num1} is an odd number\")"
   ]
  },
  {
   "cell_type": "code",
   "execution_count": 13,
   "id": "95491392-2924-405b-a23b-944188953c49",
   "metadata": {},
   "outputs": [],
   "source": [
    "# 3.\tWrite a Python Program to Check Leap Year?"
   ]
  },
  {
   "cell_type": "code",
   "execution_count": 3,
   "id": "882d90fc-d96c-404d-8ad9-d7f231b9af53",
   "metadata": {},
   "outputs": [
    {
     "name": "stdin",
     "output_type": "stream",
     "text": [
      "Enter the year:  2012\n"
     ]
    },
    {
     "name": "stdout",
     "output_type": "stream",
     "text": [
      "2012 is a leap year\n"
     ]
    }
   ],
   "source": [
    "year = int(input(\"Enter the year: \"))\n",
    "if year%4==0 and year%100!=0:\n",
    "    print(f\"{year} is a leap year\")\n",
    "elif year%100==0 and year%400==0:\n",
    "    print(f\"{year} is a leap year\")\n",
    "else:\n",
    "    print(f\"{year} is not a leap year\")"
   ]
  },
  {
   "cell_type": "code",
   "execution_count": 4,
   "id": "af506a3e-9309-47ba-bb13-70c02208c3b4",
   "metadata": {},
   "outputs": [],
   "source": [
    "#4.\tWrite a Python Program to Check Prime Number?"
   ]
  },
  {
   "cell_type": "code",
   "execution_count": 8,
   "id": "2e1c4b3a-ed77-475f-9601-a0895cf2cfed",
   "metadata": {},
   "outputs": [
    {
     "name": "stdin",
     "output_type": "stream",
     "text": [
      "Enter the number you need to check:  49\n"
     ]
    },
    {
     "name": "stdout",
     "output_type": "stream",
     "text": [
      "49 is not a prime number\n"
     ]
    }
   ],
   "source": [
    "num2 = int(input(\"Enter the number you need to check: \"))\n",
    "if num2>1:\n",
    "    for i in range(2,int(num2/2)+1):\n",
    "        if num2%i == 0:\n",
    "            print(f\"{num2} is not a prime number\")\n",
    "            break\n",
    "    else:\n",
    "        print(f\"{num2} is a prime number\")\n",
    "else:\n",
    "    print(f\"{num2} is not a prime number\")\n",
    "    "
   ]
  },
  {
   "cell_type": "code",
   "execution_count": 9,
   "id": "5e6866e3-b665-4485-939b-bcbf1217bf90",
   "metadata": {},
   "outputs": [],
   "source": [
    "#5.\tWrite a Python Program to Print all Prime Numbers in an Interval of 1-10000?"
   ]
  },
  {
   "cell_type": "code",
   "execution_count": 17,
   "id": "95ff4e04-292e-4ae3-9e9d-0eeb5b46bb2e",
   "metadata": {},
   "outputs": [],
   "source": [
    "lim = 10000\n",
    "for numb in range(1,lim+1):\n",
    "    if numb>1:\n",
    "        for j in range(2,lim):\n",
    "            if numb % j == 0:\n",
    "                break\n",
    "        else:\n",
    "            print(numb)"
   ]
  },
  {
   "cell_type": "code",
   "execution_count": null,
   "id": "483ba174-face-48f1-980c-4f3833c0c33e",
   "metadata": {},
   "outputs": [],
   "source": []
  }
 ],
 "metadata": {
  "kernelspec": {
   "display_name": "Python 3 (ipykernel)",
   "language": "python",
   "name": "python3"
  },
  "language_info": {
   "codemirror_mode": {
    "name": "ipython",
    "version": 3
   },
   "file_extension": ".py",
   "mimetype": "text/x-python",
   "name": "python",
   "nbconvert_exporter": "python",
   "pygments_lexer": "ipython3",
   "version": "3.10.6"
  }
 },
 "nbformat": 4,
 "nbformat_minor": 5
}

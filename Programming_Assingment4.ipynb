{
 "cells": [
  {
   "cell_type": "code",
   "execution_count": 1,
   "id": "a30e9a82-3495-4383-8871-570553c0f516",
   "metadata": {},
   "outputs": [],
   "source": [
    "#1.\tWrite a Python Program to Find the Factorial of a Number?"
   ]
  },
  {
   "cell_type": "code",
   "execution_count": 3,
   "id": "70f9613e-66ed-453e-853f-4d15b7722875",
   "metadata": {},
   "outputs": [
    {
     "name": "stdin",
     "output_type": "stream",
     "text": [
      "Enter a number:  3\n"
     ]
    },
    {
     "name": "stdout",
     "output_type": "stream",
     "text": [
      "The factorial of the number 3 is 6\n"
     ]
    }
   ],
   "source": [
    "num= int(input(\"Enter a number: \"))\n",
    "fact = 1\n",
    "if num<0:\n",
    "    print(\"Sorry factorial doesn't exist for negative numbers\")\n",
    "elif num == 0:\n",
    "    print(\"The factorial of 0 is 1\")\n",
    "else:\n",
    "    for i in range(1,num+1):\n",
    "        fact = fact*i\n",
    "    print(f\"The factorial of the number {num} is {fact}\")"
   ]
  },
  {
   "cell_type": "code",
   "execution_count": 4,
   "id": "e9384b7f-1cac-482d-9d04-a2302cfd955e",
   "metadata": {},
   "outputs": [],
   "source": [
    "#2.\tWrite a Python Program to Display the multiplication Table?"
   ]
  },
  {
   "cell_type": "code",
   "execution_count": 5,
   "id": "d998c4cc-13df-40f7-b780-6e22629e281c",
   "metadata": {},
   "outputs": [
    {
     "name": "stdin",
     "output_type": "stream",
     "text": [
      "Enter a number:  3\n"
     ]
    },
    {
     "name": "stdout",
     "output_type": "stream",
     "text": [
      "3 * 1 = 3\n",
      "3 * 2 = 6\n",
      "3 * 3 = 9\n",
      "3 * 4 = 12\n",
      "3 * 5 = 15\n",
      "3 * 6 = 18\n",
      "3 * 7 = 21\n",
      "3 * 8 = 24\n",
      "3 * 9 = 27\n",
      "3 * 10 = 30\n"
     ]
    }
   ],
   "source": [
    "num1 = int(input(\"Enter a number: \"))\n",
    "for i in range(1,11):\n",
    "    print(f\"{num1} * {i} = {num1*i}\")"
   ]
  },
  {
   "cell_type": "code",
   "execution_count": 6,
   "id": "8c8885fa-6da8-4699-a3b8-41ea1135f3fa",
   "metadata": {},
   "outputs": [],
   "source": [
    "#3.\tWrite a Python Program to Print the Fibonacci sequence?"
   ]
  },
  {
   "cell_type": "code",
   "execution_count": 2,
   "id": "4e26b5ea-5de5-45ce-bd3d-667f42918646",
   "metadata": {},
   "outputs": [
    {
     "name": "stdin",
     "output_type": "stream",
     "text": [
      "Enter a number:  7\n"
     ]
    },
    {
     "name": "stdout",
     "output_type": "stream",
     "text": [
      "Fibonnaci sequence:  0 1 1 2 3 5 8 "
     ]
    }
   ],
   "source": [
    "num3 = int(input(\"Enter a number: \"))\n",
    "count=0\n",
    "f1,f2= 0,1\n",
    "if num3 <=0:\n",
    "    print(\"Please enter a postive number\")\n",
    "elif num3 == 1:\n",
    "    print(f\"Fibonnaci series for {f1} is {f1}\",end=\" \")\n",
    "else:\n",
    "    print(\"Fibonnaci sequence: \", end=\" \")\n",
    "    while count < num3:\n",
    "        print(f1, end=\" \")\n",
    "        f = f1+f2\n",
    "        f1=f2\n",
    "        f2 = f\n",
    "        count+=1"
   ]
  },
  {
   "cell_type": "code",
   "execution_count": 3,
   "id": "d2be8cf5-700d-4b40-8e54-21ba7b51df25",
   "metadata": {},
   "outputs": [],
   "source": [
    "#4.\tWrite a Python Program to Check Armstrong Number?"
   ]
  },
  {
   "cell_type": "code",
   "execution_count": 6,
   "id": "fd2b5548-dda3-41ad-ad26-16af1a086205",
   "metadata": {},
   "outputs": [
    {
     "name": "stdin",
     "output_type": "stream",
     "text": [
      "Enter a number:  371\n"
     ]
    },
    {
     "name": "stdout",
     "output_type": "stream",
     "text": [
      "371 is an Armstrong Number\n"
     ]
    }
   ],
   "source": [
    "num4 = (input(\"Enter a number: \"))\n",
    "ttl =0\n",
    "for i in num4:\n",
    "    ttl = ttl + (int(i)**len(num4))\n",
    "if int(num4) == ttl:\n",
    "    print(f\"{num4} is an Armstrong Number\")"
   ]
  },
  {
   "cell_type": "code",
   "execution_count": 7,
   "id": "293bdba9-eb5e-4bf5-9352-4db569c22e6a",
   "metadata": {},
   "outputs": [],
   "source": [
    "#5.\tWrite a Python Program to Find Armstrong Number in an Interval?"
   ]
  },
  {
   "cell_type": "code",
   "execution_count": 9,
   "id": "7ffb6e78-a913-4ae3-a5f6-78cc0cd44d02",
   "metadata": {},
   "outputs": [
    {
     "name": "stdin",
     "output_type": "stream",
     "text": [
      "Enter the lower limit:  100\n",
      "Enter the upper limit:  2000\n"
     ]
    },
    {
     "name": "stdout",
     "output_type": "stream",
     "text": [
      "153\n",
      "370\n",
      "371\n",
      "407\n",
      "1634\n"
     ]
    }
   ],
   "source": [
    "lower = int(input(\"Enter the lower limit: \"))\n",
    "upper = int(input(\"Enter the upper limit: \"))\n",
    "\n",
    "for num in range(lower, upper+1):\n",
    "    order = len(str(num))\n",
    "    sum=0\n",
    "    temp = num\n",
    "    while temp>0:\n",
    "      digit = temp % 10\n",
    "      sum+=digit**order\n",
    "      temp//=10\n",
    "    if num == sum:\n",
    "         print(num)"
   ]
  },
  {
   "cell_type": "code",
   "execution_count": 10,
   "id": "ee714471-7945-43a7-b788-3ddb3fcfa8b6",
   "metadata": {},
   "outputs": [],
   "source": [
    "#6.\tWrite a Python Program to Find the Sum of Natural Numbers?"
   ]
  },
  {
   "cell_type": "code",
   "execution_count": 14,
   "id": "1ac4d445-d428-4a61-8ee6-78a13f1b19a1",
   "metadata": {},
   "outputs": [
    {
     "name": "stdin",
     "output_type": "stream",
     "text": [
      "Enter the number:  16\n"
     ]
    },
    {
     "name": "stdout",
     "output_type": "stream",
     "text": [
      " The sum of first 16 Natural numbers is 136\n"
     ]
    }
   ],
   "source": [
    "numb = int(input(\"Enter the number: \"))\n",
    "tol =0\n",
    "for i in range(1,numb+1):\n",
    "    tol=tol+i\n",
    "print(f\" The sum of first {numb} Natural numbers is {tol}\")"
   ]
  },
  {
   "cell_type": "code",
   "execution_count": null,
   "id": "7baa2af4-f3b7-4041-a0c4-4954d426a5d0",
   "metadata": {},
   "outputs": [],
   "source": []
  }
 ],
 "metadata": {
  "kernelspec": {
   "display_name": "Python 3 (ipykernel)",
   "language": "python",
   "name": "python3"
  },
  "language_info": {
   "codemirror_mode": {
    "name": "ipython",
    "version": 3
   },
   "file_extension": ".py",
   "mimetype": "text/x-python",
   "name": "python",
   "nbconvert_exporter": "python",
   "pygments_lexer": "ipython3",
   "version": "3.10.6"
  }
 },
 "nbformat": 4,
 "nbformat_minor": 5
}

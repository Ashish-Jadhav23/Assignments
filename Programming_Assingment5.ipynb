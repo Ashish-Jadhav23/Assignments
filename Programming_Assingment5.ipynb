{
 "cells": [
  {
   "cell_type": "code",
   "execution_count": 1,
   "id": "3badf88a-949e-4d29-8d86-8fcd683febed",
   "metadata": {},
   "outputs": [],
   "source": [
    "#1.\tWrite a Python Program to Find LCM?"
   ]
  },
  {
   "cell_type": "code",
   "execution_count": 4,
   "id": "b767040c-7f2f-4d32-983c-22fa705a011b",
   "metadata": {},
   "outputs": [
    {
     "name": "stdin",
     "output_type": "stream",
     "text": [
      "Enter the first number:  15\n",
      "Enter the second number:  10\n"
     ]
    },
    {
     "name": "stdout",
     "output_type": "stream",
     "text": [
      "LCM of 15 and 10 is 10\n"
     ]
    }
   ],
   "source": [
    "def gcd(a:int,b:int)->(int):\n",
    "    \"\"\"This function returns gcd of a and b\"\"\"\n",
    "    if a == 0:\n",
    "        return b\n",
    "    else:\n",
    "        return gcd(b%a,a)\n",
    "def lcm(a:int,b:int)->(int):\n",
    "    \"\"\"Function to return LCM of two numbers\"\"\"\n",
    "    return (a//gcd(a,b))*b\n",
    "\n",
    "a = int(input(\"Enter the first number: \"))\n",
    "b = int(input(\"Enter the second number: \"))\n",
    "print(f\"LCM of {a} and {b} is {lcm(a,b)}\")\n"
   ]
  },
  {
   "cell_type": "code",
   "execution_count": 5,
   "id": "6ac46646-b218-467d-87de-cac7c51e4ab1",
   "metadata": {},
   "outputs": [],
   "source": [
    "#2.\tWrite a Python Program to Find HCF?"
   ]
  },
  {
   "cell_type": "code",
   "execution_count": 11,
   "id": "be0b5199-611a-4e9a-aa6b-d31468a94055",
   "metadata": {},
   "outputs": [
    {
     "name": "stdin",
     "output_type": "stream",
     "text": [
      "Enter the first number:  15\n",
      "Enter the second number:  10\n"
     ]
    },
    {
     "name": "stdout",
     "output_type": "stream",
     "text": [
      "HCF of 15 and 10 is 5\n"
     ]
    }
   ],
   "source": [
    "def hcf(x:int, y:int)->(int):\n",
    "    \"\"\"Function to return HCF of two numbers\"\"\"\n",
    "    if x == 0:\n",
    "        return y\n",
    "    else:\n",
    "        return hcf(y%x, x)\n",
    "\n",
    "x = int(input(\"Enter the first number: \"))\n",
    "y = int(input(\"Enter the second number: \"))\n",
    "print(f\"HCF of {x} and {y} is {hcf(x,y)}\")"
   ]
  },
  {
   "cell_type": "code",
   "execution_count": 12,
   "id": "4f920a2b-aa4c-48a1-9f83-fe5bf78032de",
   "metadata": {},
   "outputs": [],
   "source": [
    "#3.\tWrite a Python Program to Convert Decimal to Binary, Octal and Hexadecimal?"
   ]
  },
  {
   "cell_type": "code",
   "execution_count": 15,
   "id": "9ba946fe-eb98-4e78-9fa0-ffa88d65e04d",
   "metadata": {},
   "outputs": [
    {
     "name": "stdin",
     "output_type": "stream",
     "text": [
      "Enter the number you want to convert:  64\n"
     ]
    },
    {
     "name": "stdout",
     "output_type": "stream",
     "text": [
      "The number 64 in binary formart is 0b1000000, in hexadecimal format is 0x40 and in octal format is 0o100\n"
     ]
    }
   ],
   "source": [
    "deci = int(input(\"Enter the number you want to convert: \"))\n",
    "print(f\"The number {deci} in binary formart is {bin(deci)}, in hexadecimal format is {hex(deci)} and in octal format is {oct(deci)}\")"
   ]
  },
  {
   "cell_type": "code",
   "execution_count": 16,
   "id": "54dd2e1a-a019-4836-a621-f82a1b8640fa",
   "metadata": {},
   "outputs": [],
   "source": [
    "#4.\tWrite a Python Program To Find ASCII value of a character?"
   ]
  },
  {
   "cell_type": "code",
   "execution_count": 19,
   "id": "55efdb84-aaf4-4bff-97f3-700ce78e9376",
   "metadata": {},
   "outputs": [
    {
     "name": "stdin",
     "output_type": "stream",
     "text": [
      "Enter the value:  A\n"
     ]
    },
    {
     "name": "stdout",
     "output_type": "stream",
     "text": [
      "The ASCII value of A is 65\n"
     ]
    }
   ],
   "source": [
    "value = input(\"Enter the value: \")\n",
    "print(f\"The ASCII value of {value} is\",ord(value))"
   ]
  },
  {
   "cell_type": "code",
   "execution_count": 20,
   "id": "114cd8a3-eaa7-484d-a490-281fa499825c",
   "metadata": {},
   "outputs": [],
   "source": [
    "#5.\tWrite a Python Program to Make a Simple Calculator with 4 basic mathematical operations?"
   ]
  },
  {
   "cell_type": "code",
   "execution_count": 2,
   "id": "f4f1ebbf-c586-4f9d-b999-007757fbdb89",
   "metadata": {},
   "outputs": [
    {
     "name": "stdin",
     "output_type": "stream",
     "text": [
      "Enter the first number:  10\n",
      "Enter the second number:  20\n",
      "Please select any one operation from Addition, Subtraction, Multiplication and Division:  addition\n"
     ]
    },
    {
     "name": "stdout",
     "output_type": "stream",
     "text": [
      "The result of addition of 10 and 20 is 30\n"
     ]
    }
   ],
   "source": [
    "def calculator(num1:int, num2: int, ops: str)->(int or float):\n",
    "    \"\"\"This is a simple calculator funtion which returns \n",
    "    the addition, subtraction, multiplication and division of two numbers\"\"\"\n",
    "    if ops == \"addition\":\n",
    "        return num1+num2\n",
    "    elif ops == \"subtraction\":\n",
    "        return num1 - num2\n",
    "    elif ops == \"multiplication\":\n",
    "        return num1*num2\n",
    "    elif ops == \"division\":\n",
    "        return num1/num2\n",
    "    else:\n",
    "        return \"None! because you entered invalid operation\"\n",
    "\n",
    "num1 = int(input(\"Enter the first number: \"))\n",
    "num2 = int(input(\"Enter the second number: \"))\n",
    "operation = input(\"Please select any one operation from Addition, Subtraction, Multiplication and Division: \").lower()\n",
    "print(f\"The result of {operation} of {num1} and {num2} is\", calculator(num1, num2, operation))"
   ]
  },
  {
   "cell_type": "code",
   "execution_count": null,
   "id": "058df426-fc9e-49cf-97a0-4e4bd65f8845",
   "metadata": {},
   "outputs": [],
   "source": []
  }
 ],
 "metadata": {
  "kernelspec": {
   "display_name": "Python 3 (ipykernel)",
   "language": "python",
   "name": "python3"
  },
  "language_info": {
   "codemirror_mode": {
    "name": "ipython",
    "version": 3
   },
   "file_extension": ".py",
   "mimetype": "text/x-python",
   "name": "python",
   "nbconvert_exporter": "python",
   "pygments_lexer": "ipython3",
   "version": "3.10.6"
  }
 },
 "nbformat": 4,
 "nbformat_minor": 5
}

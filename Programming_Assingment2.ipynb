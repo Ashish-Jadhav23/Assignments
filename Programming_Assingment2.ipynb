{
 "cells": [
  {
   "cell_type": "code",
   "execution_count": 1,
   "id": "0d9d45d7-8b4d-4e98-991f-e8f98341aee9",
   "metadata": {},
   "outputs": [],
   "source": [
    "#1.\tWrite a Python program to convert kilometers to miles?"
   ]
  },
  {
   "cell_type": "code",
   "execution_count": 20,
   "id": "315ad8fc-daf2-4e7b-9bb2-610a65a0b753",
   "metadata": {},
   "outputs": [
    {
     "name": "stdin",
     "output_type": "stream",
     "text": [
      "Enter the distance in kilometers:  1.2\n"
     ]
    },
    {
     "name": "stdout",
     "output_type": "stream",
     "text": [
      "The Distance in miles is: 0.7456\n"
     ]
    }
   ],
   "source": [
    "kilometers= float(input(\"Enter the distance in kilometers: \"))\n",
    "miles = kilometers * 0.62137\n",
    "print(\"The Distance in miles is: {:.4f}\".format(miles))"
   ]
  },
  {
   "cell_type": "code",
   "execution_count": 6,
   "id": "38b3cbb0-ce46-42bd-9a89-c8f216133fb4",
   "metadata": {},
   "outputs": [],
   "source": [
    "#2.\tWrite a Python program to convert Celsius to Fahrenheit?"
   ]
  },
  {
   "cell_type": "code",
   "execution_count": 19,
   "id": "61e9e27c-a786-4fbb-bb54-719244c21bbd",
   "metadata": {},
   "outputs": [
    {
     "name": "stdin",
     "output_type": "stream",
     "text": [
      "Enter the temperature in celsius:  19\n"
     ]
    },
    {
     "name": "stdout",
     "output_type": "stream",
     "text": [
      "The temperature in Fahrenheit is: 66.2°F\n"
     ]
    }
   ],
   "source": [
    "celsius = float(input(\"Enter the temperature in celsius: \"))\n",
    "Fahrenheit = (celsius *(9/5))+32\n",
    "print(f\"The temperature in Fahrenheit is: {Fahrenheit}{chr(176)}F\")"
   ]
  },
  {
   "cell_type": "code",
   "execution_count": 21,
   "id": "682575b9-0437-4d73-b87a-fee127bd8695",
   "metadata": {},
   "outputs": [],
   "source": [
    "#3.\tWrite a Python program to display calendar?"
   ]
  },
  {
   "cell_type": "code",
   "execution_count": 25,
   "id": "eb4cdda5-16bb-49d2-be90-3fb679ea20b4",
   "metadata": {},
   "outputs": [
    {
     "name": "stdin",
     "output_type": "stream",
     "text": [
      "Enter year:  2023\n",
      "Enter month:  03\n"
     ]
    },
    {
     "name": "stdout",
     "output_type": "stream",
     "text": [
      "     March 2023\n",
      "Mo Tu We Th Fr Sa Su\n",
      "       1  2  3  4  5\n",
      " 6  7  8  9 10 11 12\n",
      "13 14 15 16 17 18 19\n",
      "20 21 22 23 24 25 26\n",
      "27 28 29 30 31\n",
      "\n"
     ]
    }
   ],
   "source": [
    "import calendar\n",
    "yy = int(input(\"Enter year: \"))\n",
    "mm = int(input(\"Enter month: \"))\n",
    "print(calendar.month(yy,mm))"
   ]
  },
  {
   "cell_type": "code",
   "execution_count": 26,
   "id": "0ccfe648-b556-4d7b-8369-8c98ff86cada",
   "metadata": {},
   "outputs": [],
   "source": [
    "#4.\tWrite a Python program to solve quadratic equation?"
   ]
  },
  {
   "cell_type": "code",
   "execution_count": 6,
   "id": "93d2b202-f5d7-437d-8197-275d19eb546d",
   "metadata": {},
   "outputs": [
    {
     "name": "stdin",
     "output_type": "stream",
     "text": [
      " 1 2 1\n"
     ]
    },
    {
     "name": "stdout",
     "output_type": "stream",
     "text": [
      "-1.0 -1.0\n"
     ]
    }
   ],
   "source": [
    "a,b,c = map(int, input().split())  #for ax^2+bx+c=0\n",
    "d = ((b**2)-4*a*c)\n",
    "sol_1 = (-b-(d)**0.5)/2*a\n",
    "sol_2 = (-b+(d)**0.5)/2*a\n",
    "print(sol_1, sol_2)"
   ]
  },
  {
   "cell_type": "code",
   "execution_count": 7,
   "id": "49690e98-0f97-4b26-85d7-ca61c594490e",
   "metadata": {},
   "outputs": [],
   "source": [
    "#5.\tWrite a Python program to swap two variables without temp variable?"
   ]
  },
  {
   "cell_type": "code",
   "execution_count": null,
   "id": "1e88f7ee-32c8-4f25-87e5-e4ca12edf30c",
   "metadata": {},
   "outputs": [
    {
     "name": "stdin",
     "output_type": "stream",
     "text": [
      "Enter the first number:  10\n"
     ]
    }
   ],
   "source": [
    "fst_num = int(input(\"Enter the first number: \"))\n",
    "snd_num = int(input(\"Enter the second number: \"))\n",
    "fst_num, snd_num = snd_num, fst_num\n",
    "print(f\"The numbers after swapping are: {fst_num}{snd_num}\")"
   ]
  },
  {
   "cell_type": "code",
   "execution_count": null,
   "id": "0f88f8c1-532b-4519-9b55-c7121b974e5e",
   "metadata": {},
   "outputs": [],
   "source": []
  }
 ],
 "metadata": {
  "kernelspec": {
   "display_name": "Python 3 (ipykernel)",
   "language": "python",
   "name": "python3"
  },
  "language_info": {
   "codemirror_mode": {
    "name": "ipython",
    "version": 3
   },
   "file_extension": ".py",
   "mimetype": "text/x-python",
   "name": "python",
   "nbconvert_exporter": "python",
   "pygments_lexer": "ipython3",
   "version": "3.10.6"
  }
 },
 "nbformat": 4,
 "nbformat_minor": 5
}
